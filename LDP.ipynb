{
 "cells": [
  {
   "cell_type": "markdown",
   "id": "c70d55fd",
   "metadata": {
    "papermill": {
     "duration": 0.003905,
     "end_time": "2025-03-27T15:46:25.780946",
     "exception": false,
     "start_time": "2025-03-27T15:46:25.777041",
     "status": "completed"
    },
    "tags": []
   },
   "source": [
    "# **Step 1: Load training and testing datasets**"
   ]
  },
  {
   "cell_type": "code",
   "execution_count": 1,
   "id": "414c8112",
   "metadata": {
    "execution": {
     "iopub.execute_input": "2025-03-27T15:46:25.788560Z",
     "iopub.status.busy": "2025-03-27T15:46:25.788102Z",
     "iopub.status.idle": "2025-03-27T15:46:29.179467Z",
     "shell.execute_reply": "2025-03-27T15:46:29.178357Z"
    },
    "papermill": {
     "duration": 3.397201,
     "end_time": "2025-03-27T15:46:29.181497",
     "exception": false,
     "start_time": "2025-03-27T15:46:25.784296",
     "status": "completed"
    },
    "tags": []
   },
   "outputs": [],
   "source": [
    "import time\n",
    "import pandas as pd\n",
    "import numpy as np\n",
    "import matplotlib.pyplot as plt\n",
    "import seaborn as sns\n",
    "from sklearn.preprocessing import StandardScaler, OneHotEncoder\n",
    "from sklearn.impute import SimpleImputer\n",
    "from sklearn.ensemble import RandomForestClassifier\n",
    "from sklearn.svm import SVC\n",
    "from sklearn.linear_model import LogisticRegression\n",
    "from sklearn.tree import DecisionTreeClassifier\n",
    "from sklearn.naive_bayes import GaussianNB\n",
    "from sklearn.metrics import (\n",
    "    accuracy_score, confusion_matrix, precision_score,\n",
    "    recall_score, f1_score\n",
    ")"
   ]
  },
  {
   "cell_type": "code",
   "execution_count": 2,
   "id": "70a04954",
   "metadata": {
    "execution": {
     "iopub.execute_input": "2025-03-27T15:46:29.188897Z",
     "iopub.status.busy": "2025-03-27T15:46:29.188369Z",
     "iopub.status.idle": "2025-03-27T15:46:29.263726Z",
     "shell.execute_reply": "2025-03-27T15:46:29.262753Z"
    },
    "papermill": {
     "duration": 0.08106,
     "end_time": "2025-03-27T15:46:29.265699",
     "exception": false,
     "start_time": "2025-03-27T15:46:29.184639",
     "status": "completed"
    },
    "tags": []
   },
   "outputs": [],
   "source": [
    "train_data = pd.read_csv(\"/kaggle/input/credit-default-prediction-ai-big-data/train.csv\")\n",
    "test_data = pd.read_csv(\"/kaggle/input/credit-default-prediction-ai-big-data/test.csv\")"
   ]
  },
  {
   "cell_type": "markdown",
   "id": "3136ea10",
   "metadata": {
    "papermill": {
     "duration": 0.002624,
     "end_time": "2025-03-27T15:46:29.271447",
     "exception": false,
     "start_time": "2025-03-27T15:46:29.268823",
     "status": "completed"
    },
    "tags": []
   },
   "source": [
    "# **Step 2: Display dataset information**"
   ]
  },
  {
   "cell_type": "code",
   "execution_count": 3,
   "id": "63538774",
   "metadata": {
    "_cell_guid": "b1076dfc-b9ad-4769-8c92-a6c4dae69d19",
    "_uuid": "8f2839f25d086af736a60e9eeb907d3b93b6e0e5",
    "execution": {
     "iopub.execute_input": "2025-03-27T15:46:29.278140Z",
     "iopub.status.busy": "2025-03-27T15:46:29.277796Z",
     "iopub.status.idle": "2025-03-27T15:46:29.387261Z",
     "shell.execute_reply": "2025-03-27T15:46:29.386136Z"
    },
    "papermill": {
     "duration": 0.115565,
     "end_time": "2025-03-27T15:46:29.389746",
     "exception": false,
     "start_time": "2025-03-27T15:46:29.274181",
     "status": "completed"
    },
    "tags": []
   },
   "outputs": [
    {
     "name": "stdout",
     "output_type": "stream",
     "text": [
      "\n",
      "Train Data Information:\n",
      "<class 'pandas.core.frame.DataFrame'>\n",
      "RangeIndex: 7500 entries, 0 to 7499\n",
      "Data columns (total 18 columns):\n",
      " #   Column                        Non-Null Count  Dtype  \n",
      "---  ------                        --------------  -----  \n",
      " 0   Id                            7500 non-null   int64  \n",
      " 1   Home Ownership                7500 non-null   object \n",
      " 2   Annual Income                 5943 non-null   float64\n",
      " 3   Years in current job          7129 non-null   object \n",
      " 4   Tax Liens                     7500 non-null   float64\n",
      " 5   Number of Open Accounts       7500 non-null   float64\n",
      " 6   Years of Credit History       7500 non-null   float64\n",
      " 7   Maximum Open Credit           7500 non-null   float64\n",
      " 8   Number of Credit Problems     7500 non-null   float64\n",
      " 9   Months since last delinquent  3419 non-null   float64\n",
      " 10  Bankruptcies                  7486 non-null   float64\n",
      " 11  Purpose                       7500 non-null   object \n",
      " 12  Term                          7500 non-null   object \n",
      " 13  Current Loan Amount           7500 non-null   float64\n",
      " 14  Current Credit Balance        7500 non-null   float64\n",
      " 15  Monthly Debt                  7500 non-null   float64\n",
      " 16  Credit Score                  5943 non-null   float64\n",
      " 17  Credit Default                7500 non-null   int64  \n",
      "dtypes: float64(12), int64(2), object(4)\n",
      "memory usage: 1.0+ MB\n",
      "None\n",
      "\n",
      "Missing Values:\n",
      "Id                                 0\n",
      "Home Ownership                     0\n",
      "Annual Income                   1557\n",
      "Years in current job             371\n",
      "Tax Liens                          0\n",
      "Number of Open Accounts            0\n",
      "Years of Credit History            0\n",
      "Maximum Open Credit                0\n",
      "Number of Credit Problems          0\n",
      "Months since last delinquent    4081\n",
      "Bankruptcies                      14\n",
      "Purpose                            0\n",
      "Term                               0\n",
      "Current Loan Amount                0\n",
      "Current Credit Balance             0\n",
      "Monthly Debt                       0\n",
      "Credit Score                    1557\n",
      "Credit Default                     0\n",
      "dtype: int64\n",
      "\n",
      "Summary Statistics:\n",
      "                Id  Annual Income    Tax Liens  Number of Open Accounts  \\\n",
      "count  7500.000000   5.943000e+03  7500.000000              7500.000000   \n",
      "mean   3749.500000   1.366392e+06     0.030133                11.130933   \n",
      "std    2165.207842   8.453392e+05     0.271604                 4.908924   \n",
      "min       0.000000   1.645970e+05     0.000000                 2.000000   \n",
      "25%    1874.750000   8.443410e+05     0.000000                 8.000000   \n",
      "50%    3749.500000   1.168386e+06     0.000000                10.000000   \n",
      "75%    5624.250000   1.640137e+06     0.000000                14.000000   \n",
      "max    7499.000000   1.014934e+07     7.000000                43.000000   \n",
      "\n",
      "       Years of Credit History  Maximum Open Credit  \\\n",
      "count              7500.000000         7.500000e+03   \n",
      "mean                 18.317467         9.451537e+05   \n",
      "std                   7.041946         1.602622e+07   \n",
      "min                   4.000000         0.000000e+00   \n",
      "25%                  13.500000         2.792295e+05   \n",
      "50%                  17.000000         4.781590e+05   \n",
      "75%                  21.800000         7.935015e+05   \n",
      "max                  57.700000         1.304726e+09   \n",
      "\n",
      "       Number of Credit Problems  Months since last delinquent  Bankruptcies  \\\n",
      "count                7500.000000                   3419.000000   7486.000000   \n",
      "mean                    0.170000                     34.692600      0.117152   \n",
      "std                     0.498598                     21.688806      0.347192   \n",
      "min                     0.000000                      0.000000      0.000000   \n",
      "25%                     0.000000                     16.000000      0.000000   \n",
      "50%                     0.000000                     32.000000      0.000000   \n",
      "75%                     0.000000                     50.000000      0.000000   \n",
      "max                     7.000000                    118.000000      4.000000   \n",
      "\n",
      "       Current Loan Amount  Current Credit Balance   Monthly Debt  \\\n",
      "count         7.500000e+03            7.500000e+03    7500.000000   \n",
      "mean          1.187318e+07            2.898332e+05   18314.454133   \n",
      "std           3.192612e+07            3.178714e+05   11926.764673   \n",
      "min           1.124200e+04            0.000000e+00       0.000000   \n",
      "25%           1.801690e+05            1.142565e+05   10067.500000   \n",
      "50%           3.095730e+05            2.093230e+05   16076.500000   \n",
      "75%           5.198820e+05            3.604062e+05   23818.000000   \n",
      "max           1.000000e+08            6.506797e+06  136679.000000   \n",
      "\n",
      "       Credit Score  Credit Default  \n",
      "count   5943.000000     7500.000000  \n",
      "mean    1151.087498        0.281733  \n",
      "std     1604.451418        0.449874  \n",
      "min      585.000000        0.000000  \n",
      "25%      711.000000        0.000000  \n",
      "50%      731.000000        0.000000  \n",
      "75%      743.000000        1.000000  \n",
      "max     7510.000000        1.000000  \n",
      "\n",
      "Test Data Information:\n",
      "<class 'pandas.core.frame.DataFrame'>\n",
      "RangeIndex: 2500 entries, 0 to 2499\n",
      "Data columns (total 17 columns):\n",
      " #   Column                        Non-Null Count  Dtype  \n",
      "---  ------                        --------------  -----  \n",
      " 0   Id                            2500 non-null   int64  \n",
      " 1   Home Ownership                2500 non-null   object \n",
      " 2   Annual Income                 1987 non-null   float64\n",
      " 3   Years in current job          2414 non-null   object \n",
      " 4   Tax Liens                     2500 non-null   float64\n",
      " 5   Number of Open Accounts       2500 non-null   float64\n",
      " 6   Years of Credit History       2500 non-null   float64\n",
      " 7   Maximum Open Credit           2500 non-null   float64\n",
      " 8   Number of Credit Problems     2500 non-null   float64\n",
      " 9   Months since last delinquent  1142 non-null   float64\n",
      " 10  Bankruptcies                  2497 non-null   float64\n",
      " 11  Purpose                       2500 non-null   object \n",
      " 12  Term                          2500 non-null   object \n",
      " 13  Current Loan Amount           2500 non-null   float64\n",
      " 14  Current Credit Balance        2500 non-null   float64\n",
      " 15  Monthly Debt                  2500 non-null   float64\n",
      " 16  Credit Score                  1987 non-null   float64\n",
      "dtypes: float64(12), int64(1), object(4)\n",
      "memory usage: 332.2+ KB\n",
      "None\n",
      "\n",
      "Missing Values:\n",
      "Id                                 0\n",
      "Home Ownership                     0\n",
      "Annual Income                    513\n",
      "Years in current job              86\n",
      "Tax Liens                          0\n",
      "Number of Open Accounts            0\n",
      "Years of Credit History            0\n",
      "Maximum Open Credit                0\n",
      "Number of Credit Problems          0\n",
      "Months since last delinquent    1358\n",
      "Bankruptcies                       3\n",
      "Purpose                            0\n",
      "Term                               0\n",
      "Current Loan Amount                0\n",
      "Current Credit Balance             0\n",
      "Monthly Debt                       0\n",
      "Credit Score                     513\n",
      "dtype: int64\n",
      "\n",
      "Summary Statistics:\n",
      "               Id  Annual Income    Tax Liens  Number of Open Accounts  \\\n",
      "count  2500.00000   1.987000e+03  2500.000000              2500.000000   \n",
      "mean   8749.50000   1.366922e+06     0.035200                11.184400   \n",
      "std     721.83216   9.171252e+05     0.386291                 4.852774   \n",
      "min    7500.00000   1.065330e+05     0.000000                 1.000000   \n",
      "25%    8124.75000   8.523115e+05     0.000000                 8.000000   \n",
      "50%    8749.50000   1.178475e+06     0.000000                10.000000   \n",
      "75%    9374.25000   1.629734e+06     0.000000                14.000000   \n",
      "max    9999.00000   1.497561e+07    15.000000                48.000000   \n",
      "\n",
      "       Years of Credit History  Maximum Open Credit  \\\n",
      "count              2500.000000         2.500000e+03   \n",
      "mean                 18.325920         7.105704e+05   \n",
      "std                   7.254659         1.511983e+06   \n",
      "min                   3.900000         0.000000e+00   \n",
      "25%                  13.400000         2.785860e+05   \n",
      "50%                  17.000000         4.786760e+05   \n",
      "75%                  22.100000         8.025985e+05   \n",
      "max                  53.400000         5.448439e+07   \n",
      "\n",
      "       Number of Credit Problems  Months since last delinquent  Bankruptcies  \\\n",
      "count                2500.000000                   1142.000000   2497.000000   \n",
      "mean                    0.162000                     34.181261      0.106928   \n",
      "std                     0.559894                     22.024277      0.357189   \n",
      "min                     0.000000                      0.000000      0.000000   \n",
      "25%                     0.000000                     16.000000      0.000000   \n",
      "50%                     0.000000                     30.000000      0.000000   \n",
      "75%                     0.000000                     50.000000      0.000000   \n",
      "max                    15.000000                     82.000000      5.000000   \n",
      "\n",
      "       Current Loan Amount  Current Credit Balance  Monthly Debt  Credit Score  \n",
      "count         2.500000e+03            2.500000e+03   2500.000000   1987.000000  \n",
      "mean          1.215572e+07            2.963966e+05  18271.340000   1234.516860  \n",
      "std           3.226097e+07            3.783020e+05  11543.881469   1740.219442  \n",
      "min           1.542200e+04            0.000000e+00     93.000000    585.000000  \n",
      "25%           1.871265e+05            1.101145e+05  10024.750000    710.000000  \n",
      "50%           3.223660e+05            2.073850e+05  16642.500000    731.000000  \n",
      "75%           5.225825e+05            3.663485e+05  24146.000000    743.000000  \n",
      "max           1.000000e+08            6.030087e+06  93555.000000   7480.000000  \n"
     ]
    }
   ],
   "source": [
    "def quality_report(df, name):\n",
    "    print(f\"\\n{name} Data Information:\")\n",
    "    print(df.info())\n",
    "    print(\"\\nMissing Values:\")\n",
    "    print(df.isnull().sum())\n",
    "    print(\"\\nSummary Statistics:\")\n",
    "    print(df.describe())\n",
    "\n",
    "quality_report(train_data, \"Train\")\n",
    "quality_report(test_data, \"Test\")"
   ]
  },
  {
   "cell_type": "markdown",
   "id": "b53145db",
   "metadata": {
    "papermill": {
     "duration": 0.002925,
     "end_time": "2025-03-27T15:46:29.396359",
     "exception": false,
     "start_time": "2025-03-27T15:46:29.393434",
     "status": "completed"
    },
    "tags": []
   },
   "source": [
    "# **Step 3: Handle missing values**"
   ]
  },
  {
   "cell_type": "code",
   "execution_count": 4,
   "id": "3c503307",
   "metadata": {
    "execution": {
     "iopub.execute_input": "2025-03-27T15:46:29.403900Z",
     "iopub.status.busy": "2025-03-27T15:46:29.403560Z",
     "iopub.status.idle": "2025-03-27T15:46:29.445360Z",
     "shell.execute_reply": "2025-03-27T15:46:29.444466Z"
    },
    "papermill": {
     "duration": 0.04768,
     "end_time": "2025-03-27T15:46:29.447091",
     "exception": false,
     "start_time": "2025-03-27T15:46:29.399411",
     "status": "completed"
    },
    "tags": []
   },
   "outputs": [],
   "source": [
    "train_numerical_features = train_data.select_dtypes(include=[np.number]).columns\n",
    "train_categorical_features = train_data.select_dtypes(exclude=[np.number]).columns\n",
    "\n",
    "test_numerical_features = test_data.select_dtypes(include=[np.number]).columns\n",
    "test_categorical_features = test_data.select_dtypes(exclude=[np.number]).columns\n",
    "\n",
    "# Impute numerical values\n",
    "imputer_num_train = SimpleImputer(strategy='mean')\n",
    "train_data[train_numerical_features] = imputer_num_train.fit_transform(train_data[train_numerical_features])\n",
    "\n",
    "imputer_num_test = SimpleImputer(strategy='mean')\n",
    "test_data[test_numerical_features] = imputer_num_test.fit_transform(test_data[test_numerical_features])\n",
    "\n",
    "# Impute categorical values\n",
    "imputer_cat_train = SimpleImputer(strategy='most_frequent')\n",
    "train_data[train_categorical_features] = imputer_cat_train.fit_transform(train_data[train_categorical_features])\n",
    "\n",
    "imputer_cat_test = SimpleImputer(strategy='most_frequent')\n",
    "test_data[test_categorical_features] = imputer_cat_test.fit_transform(test_data[test_categorical_features])"
   ]
  },
  {
   "cell_type": "markdown",
   "id": "5bff3621",
   "metadata": {
    "papermill": {
     "duration": 0.002881,
     "end_time": "2025-03-27T15:46:29.453422",
     "exception": false,
     "start_time": "2025-03-27T15:46:29.450541",
     "status": "completed"
    },
    "tags": []
   },
   "source": [
    "# **Step 4: Preprocess Data**"
   ]
  },
  {
   "cell_type": "code",
   "execution_count": 5,
   "id": "a88a27f4",
   "metadata": {
    "execution": {
     "iopub.execute_input": "2025-03-27T15:46:29.460772Z",
     "iopub.status.busy": "2025-03-27T15:46:29.460434Z",
     "iopub.status.idle": "2025-03-27T15:46:29.526343Z",
     "shell.execute_reply": "2025-03-27T15:46:29.525181Z"
    },
    "papermill": {
     "duration": 0.071913,
     "end_time": "2025-03-27T15:46:29.528304",
     "exception": false,
     "start_time": "2025-03-27T15:46:29.456391",
     "status": "completed"
    },
    "tags": []
   },
   "outputs": [],
   "source": [
    "# Ensure the categorical columns match\n",
    "common_categorical_features = list(set(train_categorical_features) & set(test_categorical_features))\n",
    "\n",
    "# Encode categorical variables using OneHotEncoder\n",
    "encoder = OneHotEncoder(handle_unknown='ignore', drop='first', sparse_output=False)  # Use sparse_output instead of sparse\n",
    "\n",
    "# Fit encoder on training set and transform both train and test sets\n",
    "categorical_encoded_train = encoder.fit_transform(train_data[common_categorical_features])\n",
    "categorical_encoded_test = encoder.transform(test_data[common_categorical_features])\n",
    "\n",
    "# Convert encoded categorical features to DataFrame\n",
    "categorical_df_train = pd.DataFrame(categorical_encoded_train, columns=encoder.get_feature_names_out(common_categorical_features))\n",
    "categorical_df_test = pd.DataFrame(categorical_encoded_test, columns=encoder.get_feature_names_out(common_categorical_features))\n",
    "\n",
    "# Ensure indices are reset for concatenation\n",
    "categorical_df_train.index = train_data.index\n",
    "categorical_df_test.index = test_data.index\n",
    "\n",
    "# Identify numerical features separately for train and test\n",
    "train_numerical_features = train_data.select_dtypes(include=[np.number]).columns\n",
    "test_numerical_features = test_data.select_dtypes(include=[np.number]).columns\n",
    "\n",
    "# Ensure the numerical columns match\n",
    "common_numerical_features = list(set(train_numerical_features) & set(test_numerical_features))\n",
    "\n",
    "# Normalize numerical features\n",
    "scaler = StandardScaler()\n",
    "train_data[common_numerical_features] = scaler.fit_transform(train_data[common_numerical_features])\n",
    "test_data[common_numerical_features] = scaler.transform(test_data[common_numerical_features])\n",
    "\n",
    "# Concatenate processed numerical and categorical features\n",
    "processed_train = pd.concat([train_data[common_numerical_features], categorical_df_train], axis=1)\n",
    "processed_test = pd.concat([test_data[common_numerical_features], categorical_df_test], axis=1)\n",
    "\n",
    "# Splitting features and target variable\n",
    "X_train = processed_train.drop(columns=['Credit Default'], errors='ignore')  # 'errors=ignore' prevents KeyError if 'target' is missing\n",
    "y_train = train_data['Credit Default']\n",
    "\n",
    "# Define X_test (test set does not have a target column)\n",
    "X_test = processed_test  # Use the processed test dataset"
   ]
  },
  {
   "cell_type": "markdown",
   "id": "ba8cc4dc",
   "metadata": {
    "papermill": {
     "duration": 0.003078,
     "end_time": "2025-03-27T15:46:29.534755",
     "exception": false,
     "start_time": "2025-03-27T15:46:29.531677",
     "status": "completed"
    },
    "tags": []
   },
   "source": [
    "# **Step 5: Model training and evaluation**"
   ]
  },
  {
   "cell_type": "code",
   "execution_count": 6,
   "id": "181f09e4",
   "metadata": {
    "execution": {
     "iopub.execute_input": "2025-03-27T15:46:29.542353Z",
     "iopub.status.busy": "2025-03-27T15:46:29.541951Z",
     "iopub.status.idle": "2025-03-27T15:46:49.732718Z",
     "shell.execute_reply": "2025-03-27T15:46:49.731679Z"
    },
    "papermill": {
     "duration": 20.196473,
     "end_time": "2025-03-27T15:46:49.734382",
     "exception": false,
     "start_time": "2025-03-27T15:46:29.537909",
     "status": "completed"
    },
    "tags": []
   },
   "outputs": [
    {
     "name": "stdout",
     "output_type": "stream",
     "text": [
      "Random Forest - Accuracy: 1.00, F1 Score: 1.00, Precision: 1.00, Recall: 1.00\n",
      "SVM Linear - Accuracy: 0.77, F1 Score: 0.33, Precision: 0.98, Recall: 0.20\n",
      "SVM Kernel - Accuracy: 0.77, F1 Score: 0.33, Precision: 1.00, Recall: 0.20\n",
      "Logistic Regression - Accuracy: 0.78, F1 Score: 0.41, Precision: 0.83, Recall: 0.28\n",
      "Decision Tree - Accuracy: 1.00, F1 Score: 1.00, Precision: 1.00, Recall: 1.00\n",
      "Naïve Bayes - Accuracy: 0.72, F1 Score: 0.50, Precision: 0.50, Recall: 0.49\n"
     ]
    },
    {
     "data": {
      "image/png": "[encoded data removed]",
      "text/plain": [
       "<Figure size 1600x1200 with 7 Axes>"
      ]
     },
     "metadata": {},
     "output_type": "display_data"
    },
    {
     "name": "stdout",
     "output_type": "stream",
     "text": [
      "Predictions saved to 'sampleSubmission.csv'.\n"
     ]
    }
   ],
   "source": [
    "# Define models\n",
    "models = {\n",
    "    \"Random Forest\": RandomForestClassifier(),\n",
    "    \"SVM Linear\": SVC(kernel=\"linear\"),\n",
    "    \"SVM Kernel\": SVC(kernel=\"rbf\"),\n",
    "    \"Logistic Regression\": LogisticRegression(max_iter=1000),\n",
    "    \"Decision Tree\": DecisionTreeClassifier(),\n",
    "    \"Naïve Bayes\": GaussianNB()\n",
    "}\n",
    "\n",
    "# Initialize results table\n",
    "results = []\n",
    "\n",
    "# For simplicity, using training data to evaluate models (as y_test is unavailable)\n",
    "for name, model in models.items():\n",
    "    start_train = time.time()\n",
    "    model.fit(X_train, y_train)  # Train model\n",
    "    train_time = time.time() - start_train\n",
    "\n",
    "    # Prediction on training data since test.csv doesn't have the target column\n",
    "    start_pred = time.time()\n",
    "    y_pred_train = model.predict(X_train)  # Predict on training data (since no y_test)\n",
    "    pred_time = time.time() - start_pred\n",
    "\n",
    "    # Compute metrics based on training data\n",
    "    accuracy = accuracy_score(y_train, y_pred_train)\n",
    "    precision = precision_score(y_train, y_pred_train, average='binary')\n",
    "    recall = recall_score(y_train, y_pred_train, average='binary')\n",
    "    f1 = f1_score(y_train, y_pred_train, average='binary')\n",
    "\n",
    "    tn, fp, fn, tp = confusion_matrix(y_train, y_pred_train).ravel()\n",
    "    misclassification = (fp + fn) / len(y_train)\n",
    "    tnr = tn / (tn + fp)  # True Negative Rate\n",
    "    fpr = fp / (fp + tn)  # False Positive Rate\n",
    "    fnr = fn / (fn + tp)  # False Negative Rate\n",
    "    tpr = tp / (tp + fn)  # True Positive Rate\n",
    "\n",
    "    # Store results\n",
    "    results.append({\n",
    "        \"Model\": name,\n",
    "        \"Accuracy\": accuracy,\n",
    "        \"Misclassification\": misclassification,\n",
    "        \"TNR\": tnr,\n",
    "        \"FPR\": fpr,\n",
    "        \"FNR\": fnr,\n",
    "        \"TPR\": tpr,\n",
    "        \"Precision\": precision,\n",
    "        \"Recall\": recall,\n",
    "        \"F1 Score\": f1,\n",
    "        \"Time to Train\": train_time,\n",
    "        \"Time to Predict\": pred_time\n",
    "    })\n",
    "\n",
    "    print(f\"{name} - Accuracy: {accuracy:.2f}, F1 Score: {f1:.2f}, Precision: {precision:.2f}, Recall: {recall:.2f}\")\n",
    "\n",
    "# Convert results to DataFrame\n",
    "results_df = pd.DataFrame(results)\n",
    "\n",
    "# Save results to CSV for future analysis\n",
    "results_df.to_csv(\"model_results.csv\", index=False)\n",
    "\n",
    "# Create boxplots for model comparison\n",
    "metrics = [\"Accuracy\", \"F1 Score\", \"Precision\", \"Recall\", \"Misclassification\", \"FPR\", \"FNR\"]\n",
    "titles = [\"Accuracy\", \"F1 Score\", \"Precision\", \"Recall\", \"Misclassification Rate\", \"False Positive Rate\", \"False Negative Rate\"]\n",
    "\n",
    "# Adjusting the figure size and number of rows/columns for the boxplots\n",
    "plt.figure(figsize=(16, 12))  # Increase the figure size\n",
    "\n",
    "# Create subplots for each metric\n",
    "for i, metric in enumerate(metrics):\n",
    "    plt.subplot(2, 4, i+1)  # Adjust to 2 rows and 4 columns for better spacing\n",
    "    sns.boxplot(data=results_df, x=metric, y=\"Model\", palette=\"Set2\")\n",
    "    plt.title(titles[i])\n",
    "\n",
    "# Adjust layout and show the plot\n",
    "plt.tight_layout()\n",
    "plt.show()\n",
    "\n",
    "# Prepare the sample submission file (for test data predictions)\n",
    "submission = pd.DataFrame({\n",
    "    \"Id\": test_data[\"Id\"],  # Assuming \"Id\" exists in test.csv\n",
    "    \"Credit Default\": models[\"Random Forest\"].predict(X_test)  # Using Random Forest predictions\n",
    "})\n",
    "\n",
    "# Save the CSV file inside the 'results' folder\n",
    "submission.to_csv(\"sampleSubmission.csv\", index=False)\n",
    "print(\"Predictions saved to 'sampleSubmission.csv'.\")"
   ]
  }
 ],
 "metadata": {
  "kaggle": {
   "accelerator": "none",
   "dataSources": [
    {
     "databundleVersionId": 754004,
     "sourceId": 16592,
     "sourceType": "competition"
    }
   ],
   "dockerImageVersionId": 30918,
   "isGpuEnabled": false,
   "isInternetEnabled": true,
   "language": "python",
   "sourceType": "notebook"
  },
  "kernelspec": {
   "display_name": "Python 3",
   "language": "python",
   "name": "python3"
  },
  "language_info": {
   "codemirror_mode": {
    "name": "ipython",
    "version": 3
   },
   "file_extension": ".py",
   "mimetype": "text/x-python",
   "name": "python",
   "nbconvert_exporter": "python",
   "pygments_lexer": "ipython3",
   "version": "3.10.12"
  },
  "papermill": {
   "default_parameters": {},
   "duration": 27.579641,
   "end_time": "2025-03-27T15:46:50.560498",
   "environment_variables": {},
   "exception": null,
   "input_path": "__notebook__.ipynb",
   "output_path": "__notebook__.ipynb",
   "parameters": {},
   "start_time": "2025-03-27T15:46:22.980857",
   "version": "2.6.0"
  }
 },
 "nbformat": 4,
 "nbformat_minor": 5
}
